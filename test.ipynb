{
 "cells": [
  {
   "cell_type": "code",
   "execution_count": 3,
   "metadata": {},
   "outputs": [],
   "source": [
    "import pandas as pd\n",
    "price_history_df = pd.read_csv(\"blockchain_data/blockchain_data/price_history_array_050521_102922.csv\")\n",
    "total_liquidity = pd.read_csv(\"blockchain_data/blockchain_data/total_liquidity_array_050521_102922.csv\")\n",
    "volume = pd.read_csv(\"blockchain_data/blockchain_data/volume_array_050521_102922.csv\")"
   ]
  },
  {
   "cell_type": "code",
   "execution_count": 10,
   "metadata": {},
   "outputs": [],
   "source": [
    "def tick2Price(tick):\n",
    "        rawprice = 1.0001**tick\n",
    "        return (10 ** (18 - 6)) / rawprice"
   ]
  },
  {
   "cell_type": "code",
   "execution_count": 5,
   "metadata": {},
   "outputs": [
    {
     "data": {
      "text/plain": [
       "(13008, 289)"
      ]
     },
     "execution_count": 5,
     "metadata": {},
     "output_type": "execute_result"
    }
   ],
   "source": [
    "volume.shape"
   ]
  },
  {
   "cell_type": "code",
   "execution_count": 6,
   "metadata": {},
   "outputs": [
    {
     "data": {
      "text/html": [
       "<div>\n",
       "<style scoped>\n",
       "    .dataframe tbody tr th:only-of-type {\n",
       "        vertical-align: middle;\n",
       "    }\n",
       "\n",
       "    .dataframe tbody tr th {\n",
       "        vertical-align: top;\n",
       "    }\n",
       "\n",
       "    .dataframe thead th {\n",
       "        text-align: right;\n",
       "    }\n",
       "</style>\n",
       "<table border=\"1\" class=\"dataframe\">\n",
       "  <thead>\n",
       "    <tr style=\"text-align: right;\">\n",
       "      <th></th>\n",
       "      <th>Hour</th>\n",
       "      <th>191340</th>\n",
       "      <th>191400</th>\n",
       "      <th>191460</th>\n",
       "      <th>191520</th>\n",
       "      <th>191580</th>\n",
       "      <th>191640</th>\n",
       "      <th>191700</th>\n",
       "      <th>191760</th>\n",
       "      <th>191820</th>\n",
       "      <th>...</th>\n",
       "      <th>207960</th>\n",
       "      <th>208020</th>\n",
       "      <th>208080</th>\n",
       "      <th>208140</th>\n",
       "      <th>208200</th>\n",
       "      <th>208260</th>\n",
       "      <th>208320</th>\n",
       "      <th>208380</th>\n",
       "      <th>208440</th>\n",
       "      <th>208500</th>\n",
       "    </tr>\n",
       "  </thead>\n",
       "  <tbody>\n",
       "    <tr>\n",
       "      <th>0</th>\n",
       "      <td>1.620256e+09</td>\n",
       "      <td>2.538149e+13</td>\n",
       "      <td>2.538149e+13</td>\n",
       "      <td>2.538149e+13</td>\n",
       "      <td>2.538149e+13</td>\n",
       "      <td>2.538149e+13</td>\n",
       "      <td>2.538149e+13</td>\n",
       "      <td>2.538149e+13</td>\n",
       "      <td>2.538149e+13</td>\n",
       "      <td>2.538149e+13</td>\n",
       "      <td>...</td>\n",
       "      <td>1.431659e+12</td>\n",
       "      <td>1.431659e+12</td>\n",
       "      <td>1.431659e+12</td>\n",
       "      <td>1.431659e+12</td>\n",
       "      <td>1.431659e+12</td>\n",
       "      <td>1.431659e+12</td>\n",
       "      <td>1.431659e+12</td>\n",
       "      <td>1.431659e+12</td>\n",
       "      <td>1.431659e+12</td>\n",
       "      <td>1.431659e+12</td>\n",
       "    </tr>\n",
       "    <tr>\n",
       "      <th>1</th>\n",
       "      <td>1.620259e+09</td>\n",
       "      <td>3.834678e+13</td>\n",
       "      <td>3.834678e+13</td>\n",
       "      <td>3.834678e+13</td>\n",
       "      <td>3.834678e+13</td>\n",
       "      <td>3.834678e+13</td>\n",
       "      <td>3.834678e+13</td>\n",
       "      <td>3.834678e+13</td>\n",
       "      <td>3.834678e+13</td>\n",
       "      <td>3.834678e+13</td>\n",
       "      <td>...</td>\n",
       "      <td>4.076083e+12</td>\n",
       "      <td>4.076083e+12</td>\n",
       "      <td>4.076083e+12</td>\n",
       "      <td>4.076083e+12</td>\n",
       "      <td>4.076083e+12</td>\n",
       "      <td>4.076083e+12</td>\n",
       "      <td>4.076083e+12</td>\n",
       "      <td>4.076083e+12</td>\n",
       "      <td>4.076083e+12</td>\n",
       "      <td>4.076083e+12</td>\n",
       "    </tr>\n",
       "    <tr>\n",
       "      <th>2</th>\n",
       "      <td>1.620263e+09</td>\n",
       "      <td>3.979259e+13</td>\n",
       "      <td>3.979259e+13</td>\n",
       "      <td>3.987426e+13</td>\n",
       "      <td>3.987426e+13</td>\n",
       "      <td>3.987426e+13</td>\n",
       "      <td>3.987426e+13</td>\n",
       "      <td>3.987426e+13</td>\n",
       "      <td>3.987426e+13</td>\n",
       "      <td>3.987426e+13</td>\n",
       "      <td>...</td>\n",
       "      <td>4.076083e+12</td>\n",
       "      <td>4.076083e+12</td>\n",
       "      <td>4.076083e+12</td>\n",
       "      <td>4.076083e+12</td>\n",
       "      <td>4.076083e+12</td>\n",
       "      <td>4.076083e+12</td>\n",
       "      <td>4.076083e+12</td>\n",
       "      <td>4.076083e+12</td>\n",
       "      <td>4.076083e+12</td>\n",
       "      <td>4.076083e+12</td>\n",
       "    </tr>\n",
       "    <tr>\n",
       "      <th>3</th>\n",
       "      <td>1.620266e+09</td>\n",
       "      <td>3.980675e+13</td>\n",
       "      <td>3.980675e+13</td>\n",
       "      <td>3.988842e+13</td>\n",
       "      <td>3.988842e+13</td>\n",
       "      <td>3.988842e+13</td>\n",
       "      <td>3.988842e+13</td>\n",
       "      <td>3.988842e+13</td>\n",
       "      <td>3.988842e+13</td>\n",
       "      <td>3.988842e+13</td>\n",
       "      <td>...</td>\n",
       "      <td>4.076083e+12</td>\n",
       "      <td>4.076083e+12</td>\n",
       "      <td>4.076083e+12</td>\n",
       "      <td>4.076083e+12</td>\n",
       "      <td>4.076083e+12</td>\n",
       "      <td>4.076083e+12</td>\n",
       "      <td>4.076083e+12</td>\n",
       "      <td>4.076083e+12</td>\n",
       "      <td>4.076083e+12</td>\n",
       "      <td>4.076083e+12</td>\n",
       "    </tr>\n",
       "    <tr>\n",
       "      <th>4</th>\n",
       "      <td>1.620270e+09</td>\n",
       "      <td>5.148935e+13</td>\n",
       "      <td>5.148935e+13</td>\n",
       "      <td>5.157102e+13</td>\n",
       "      <td>5.157102e+13</td>\n",
       "      <td>5.157102e+13</td>\n",
       "      <td>5.157102e+13</td>\n",
       "      <td>5.157102e+13</td>\n",
       "      <td>5.157102e+13</td>\n",
       "      <td>5.157102e+13</td>\n",
       "      <td>...</td>\n",
       "      <td>4.076441e+12</td>\n",
       "      <td>4.076441e+12</td>\n",
       "      <td>4.076441e+12</td>\n",
       "      <td>4.076441e+12</td>\n",
       "      <td>4.076441e+12</td>\n",
       "      <td>4.076441e+12</td>\n",
       "      <td>4.076441e+12</td>\n",
       "      <td>4.076441e+12</td>\n",
       "      <td>4.076441e+12</td>\n",
       "      <td>4.076441e+12</td>\n",
       "    </tr>\n",
       "  </tbody>\n",
       "</table>\n",
       "<p>5 rows × 288 columns</p>\n",
       "</div>"
      ],
      "text/plain": [
       "           Hour        191340        191400        191460        191520  \\\n",
       "0  1.620256e+09  2.538149e+13  2.538149e+13  2.538149e+13  2.538149e+13   \n",
       "1  1.620259e+09  3.834678e+13  3.834678e+13  3.834678e+13  3.834678e+13   \n",
       "2  1.620263e+09  3.979259e+13  3.979259e+13  3.987426e+13  3.987426e+13   \n",
       "3  1.620266e+09  3.980675e+13  3.980675e+13  3.988842e+13  3.988842e+13   \n",
       "4  1.620270e+09  5.148935e+13  5.148935e+13  5.157102e+13  5.157102e+13   \n",
       "\n",
       "         191580        191640        191700        191760        191820  ...  \\\n",
       "0  2.538149e+13  2.538149e+13  2.538149e+13  2.538149e+13  2.538149e+13  ...   \n",
       "1  3.834678e+13  3.834678e+13  3.834678e+13  3.834678e+13  3.834678e+13  ...   \n",
       "2  3.987426e+13  3.987426e+13  3.987426e+13  3.987426e+13  3.987426e+13  ...   \n",
       "3  3.988842e+13  3.988842e+13  3.988842e+13  3.988842e+13  3.988842e+13  ...   \n",
       "4  5.157102e+13  5.157102e+13  5.157102e+13  5.157102e+13  5.157102e+13  ...   \n",
       "\n",
       "         207960        208020        208080        208140        208200  \\\n",
       "0  1.431659e+12  1.431659e+12  1.431659e+12  1.431659e+12  1.431659e+12   \n",
       "1  4.076083e+12  4.076083e+12  4.076083e+12  4.076083e+12  4.076083e+12   \n",
       "2  4.076083e+12  4.076083e+12  4.076083e+12  4.076083e+12  4.076083e+12   \n",
       "3  4.076083e+12  4.076083e+12  4.076083e+12  4.076083e+12  4.076083e+12   \n",
       "4  4.076441e+12  4.076441e+12  4.076441e+12  4.076441e+12  4.076441e+12   \n",
       "\n",
       "         208260        208320        208380        208440        208500  \n",
       "0  1.431659e+12  1.431659e+12  1.431659e+12  1.431659e+12  1.431659e+12  \n",
       "1  4.076083e+12  4.076083e+12  4.076083e+12  4.076083e+12  4.076083e+12  \n",
       "2  4.076083e+12  4.076083e+12  4.076083e+12  4.076083e+12  4.076083e+12  \n",
       "3  4.076083e+12  4.076083e+12  4.076083e+12  4.076083e+12  4.076083e+12  \n",
       "4  4.076441e+12  4.076441e+12  4.076441e+12  4.076441e+12  4.076441e+12  \n",
       "\n",
       "[5 rows x 288 columns]"
      ]
     },
     "execution_count": 6,
     "metadata": {},
     "output_type": "execute_result"
    }
   ],
   "source": [
    "total_liquidity.head()"
   ]
  },
  {
   "cell_type": "code",
   "execution_count": 11,
   "metadata": {},
   "outputs": [
    {
     "data": {
      "text/plain": [
       "4904.840002274622"
      ]
     },
     "execution_count": 11,
     "metadata": {},
     "output_type": "execute_result"
    }
   ],
   "source": [
    "tick2Price(191340)"
   ]
  },
  {
   "cell_type": "code",
   "execution_count": 12,
   "metadata": {},
   "outputs": [
    {
     "data": {
      "text/plain": [
       "881.8866618412868"
      ]
     },
     "execution_count": 12,
     "metadata": {},
     "output_type": "execute_result"
    }
   ],
   "source": [
    "tick2Price(208500)\n"
   ]
  },
  {
   "cell_type": "code",
   "execution_count": null,
   "metadata": {},
   "outputs": [],
   "source": []
  }
 ],
 "metadata": {
  "kernelspec": {
   "display_name": "venv",
   "language": "python",
   "name": "python3"
  },
  "language_info": {
   "codemirror_mode": {
    "name": "ipython",
    "version": 3
   },
   "file_extension": ".py",
   "mimetype": "text/x-python",
   "name": "python",
   "nbconvert_exporter": "python",
   "pygments_lexer": "ipython3",
   "version": "3.12.3"
  }
 },
 "nbformat": 4,
 "nbformat_minor": 2
}
